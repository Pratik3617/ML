{
 "cells": [
  {
   "cell_type": "code",
   "execution_count": 1,
   "id": "a9be981a-125a-41d4-a22b-ae1a8e8919c2",
   "metadata": {},
   "outputs": [
    {
     "name": "stderr",
     "output_type": "stream",
     "text": [
      "2025-02-23 17:57:16.258139: I tensorflow/core/util/port.cc:153] oneDNN custom operations are on. You may see slightly different numerical results due to floating-point round-off errors from different computation orders. To turn them off, set the environment variable `TF_ENABLE_ONEDNN_OPTS=0`.\n",
      "2025-02-23 17:57:16.271136: E external/local_xla/xla/stream_executor/cuda/cuda_fft.cc:477] Unable to register cuFFT factory: Attempting to register factory for plugin cuFFT when one has already been registered\n",
      "WARNING: All log messages before absl::InitializeLog() is called are written to STDERR\n",
      "E0000 00:00:1740313636.286742 3161882 cuda_dnn.cc:8310] Unable to register cuDNN factory: Attempting to register factory for plugin cuDNN when one has already been registered\n",
      "E0000 00:00:1740313636.291294 3161882 cuda_blas.cc:1418] Unable to register cuBLAS factory: Attempting to register factory for plugin cuBLAS when one has already been registered\n",
      "2025-02-23 17:57:16.309081: I tensorflow/core/platform/cpu_feature_guard.cc:210] This TensorFlow binary is optimized to use available CPU instructions in performance-critical operations.\n",
      "To enable the following instructions: AVX2 AVX512F AVX512_VNNI FMA, in other operations, rebuild TensorFlow with the appropriate compiler flags.\n"
     ]
    }
   ],
   "source": [
    "import easyocr\n",
    "from transformers import AutoTokenizer, AutoModelForCausalLM\n",
    "from sentence_transformers import SentenceTransformer\n",
    "import torch\n",
    "import json\n",
    "import re\n",
    "import faiss\n",
    "import numpy as np\n"
   ]
  },
  {
   "cell_type": "code",
   "execution_count": 2,
   "id": "2fba27ac-891a-42b7-bb80-a2a8306ed4a8",
   "metadata": {},
   "outputs": [],
   "source": [
    "# === Step 1: OCR - Extract Text from Invoice Image ===\n",
    "def extract_text_from_image(image_path):\n",
    "    reader = easyocr.Reader(['en'])\n",
    "    ocr_results = reader.readtext(image_path)\n",
    "    ocr_text = \"\\n\".join([result[1] for result in ocr_results])\n",
    "    return ocr_text"
   ]
  },
  {
   "cell_type": "code",
   "execution_count": 3,
   "id": "212b283b-5252-49de-b9c0-019dccf39b14",
   "metadata": {},
   "outputs": [],
   "source": [
    "# === Step 2: Process OCR Text with Mistral-7B to Extract Invoice Details ===\n",
    "def extract_invoice_details(ocr_text):\n",
    "    model_name = \"mistralai/Mistral-7B-Instruct-v0.3\"\n",
    "    tokenizer = AutoTokenizer.from_pretrained(model_name)\n",
    "    model = AutoModelForCausalLM.from_pretrained(\n",
    "        model_name, torch_dtype=torch.float16, device_map=\"auto\"\n",
    "    )\n",
    "    \n",
    "    prompt = f\"\"\"\n",
    "    Extract key details from the following invoice text and return only valid JSON.\n",
    "\n",
    "    <invoice>\n",
    "    {ocr_text}\n",
    "    </invoice>\n",
    "\n",
    "    Return only JSON output:\n",
    "    \"\"\"\n",
    "    \n",
    "    inputs = tokenizer(prompt, return_tensors=\"pt\", truncation=True, max_length=4096).to(\"cuda\")\n",
    "\n",
    "    with torch.no_grad():\n",
    "        output = model.generate(\n",
    "            **inputs,\n",
    "            max_length=4096,\n",
    "            temperature=0,\n",
    "            eos_token_id=tokenizer.eos_token_id\n",
    "        )\n",
    "\n",
    "    extracted_text = tokenizer.decode(output[0], skip_special_tokens=True)\n",
    "\n",
    "    json_match = re.search(r\"\\{.*\\}\", extracted_text, re.DOTALL)\n",
    "    if json_match:\n",
    "        try:\n",
    "            extracted_data = json.loads(json_match.group(0))\n",
    "            return extracted_data\n",
    "        except json.JSONDecodeError:\n",
    "            print(\"❌ Error: Could not parse JSON\")\n",
    "            return None\n",
    "    else:\n",
    "        print(\"❌ Error: No valid JSON found\")\n",
    "        return None\n"
   ]
  },
  {
   "cell_type": "code",
   "execution_count": 4,
   "id": "dffb83d9-b81a-45a8-9c5f-e21b808e2c23",
   "metadata": {},
   "outputs": [],
   "source": [
    "# === Step 3: Initialize FAISS with Sentence Embeddings ===\n",
    "embed_model = SentenceTransformer(\"all-MiniLM-L6-v2\")  # Efficient text embedding model\n",
    "d = 384  # Embedding size for this model\n",
    "index = faiss.IndexFlatL2(d)  # L2 distance index\n",
    "invoice_store = {}\n",
    "field_index = faiss.IndexFlatL2(d)  # For field-level embeddings\n",
    "field_store = {}\n"
   ]
  },
  {
   "cell_type": "code",
   "execution_count": 5,
   "id": "1badaf08-51a2-43ee-ab23-dd5e112ea99f",
   "metadata": {},
   "outputs": [],
   "source": [
    "# === Step 4: Store Invoices in FAISS ===\n",
    "def embed_and_store_invoice(invoice_json):\n",
    "    invoice_text = json.dumps(invoice_json)\n",
    "    invoice_vector = embed_model.encode(invoice_text).reshape(1, -1).astype('float32')\n",
    "    index.add(invoice_vector)\n",
    "\n",
    "    stored_index = index.ntotal - 1\n",
    "    invoice_store[stored_index] = invoice_json  # Store dictionary (not string)\n",
    "\n",
    "    # Store field-level embeddings\n",
    "    for key, value in invoice_json.items():\n",
    "        field_text = f\"{key}: {value}\"\n",
    "        field_vector = embed_model.encode(field_text).reshape(1, -1).astype('float32')\n",
    "        field_index.add(field_vector)\n",
    "        field_store[field_index.ntotal - 1] = {\"key\": key, \"value\": value}\n",
    "\n",
    "    return stored_index"
   ]
  },
  {
   "cell_type": "code",
   "execution_count": 6,
   "id": "7775ff5a-bfcc-4562-b280-89548718da1c",
   "metadata": {},
   "outputs": [],
   "source": [
    "# === Step 5: Generalized Querying ===\n",
    "def query_invoice(query_text):\n",
    "    query_vector = embed_model.encode(query_text).reshape(1, -1).astype('float32')\n",
    "    _, indices = field_index.search(query_vector, 1)\n",
    "\n",
    "    retrieved_index = indices[0][0]\n",
    "    if retrieved_index in field_store:\n",
    "        return field_store[retrieved_index][\"value\"]\n",
    "\n",
    "    return \"❌ No relevant invoices found.\""
   ]
  },
  {
   "cell_type": "code",
   "execution_count": 7,
   "id": "ac47d616-96e3-404c-8209-9a3b0267613b",
   "metadata": {},
   "outputs": [],
   "source": [
    "# === Step 6: Full Processing Pipeline ===\n",
    "def process_invoice(image_path):\n",
    "    ocr_text = extract_text_from_image(image_path)\n",
    "    invoice_details = extract_invoice_details(ocr_text)\n",
    "\n",
    "    if invoice_details:\n",
    "        assigned_index = embed_and_store_invoice(invoice_details)\n",
    "        print(f\"✅ Invoice stored successfully at index {assigned_index}!\")\n",
    "        return assigned_index\n",
    "    else:\n",
    "        print(\"❌ Failed to process invoice.\")\n",
    "        return None"
   ]
  },
  {
   "cell_type": "code",
   "execution_count": 8,
   "id": "ce34dd94-e487-4999-a01e-cdbce4e23474",
   "metadata": {},
   "outputs": [
    {
     "data": {
      "application/vnd.jupyter.widget-view+json": {
       "model_id": "33a730f34ce0477e868adce7d32f2ba1",
       "version_major": 2,
       "version_minor": 0
      },
      "text/plain": [
       "Loading checkpoint shards:   0%|          | 0/3 [00:00<?, ?it/s]"
      ]
     },
     "metadata": {},
     "output_type": "display_data"
    },
    {
     "name": "stderr",
     "output_type": "stream",
     "text": [
      "/home/coewml/Pratik/DiT/lib/python3.10/site-packages/transformers/generation/configuration_utils.py:628: UserWarning: `do_sample` is set to `False`. However, `temperature` is set to `0` -- this flag is only used in sample-based generation modes. You should set `do_sample=True` or unset `temperature`.\n",
      "  warnings.warn(\n",
      "Setting `pad_token_id` to `eos_token_id`:2 for open-end generation.\n"
     ]
    },
    {
     "name": "stdout",
     "output_type": "stream",
     "text": [
      "✅ Invoice stored successfully at index 0!\n",
      "🔹 Query Result: 154.06\n"
     ]
    }
   ],
   "source": [
    "# === Step 7: Example Usage ===\n",
    "image_path = \"invoice.png\"\n",
    "invoice_index = process_invoice(image_path)\n",
    "\n",
    "if invoice_index is not None:\n",
    "    query = \"What is the total amount?\"\n",
    "    query_result = query_invoice(query)\n",
    "    print(\"🔹 Query Result:\", query_result)"
   ]
  },
  {
   "cell_type": "code",
   "execution_count": 9,
   "id": "933459d3-b635-43d7-9280-2d30c3a5ab61",
   "metadata": {},
   "outputs": [
    {
     "name": "stdout",
     "output_type": "stream",
     "text": [
      "🔹 Query Result: {'name': 'John Smith', 'address': '2 Court Square', 'city': 'New York', 'state': 'NY', 'zipCode': '12210'}\n"
     ]
    }
   ],
   "source": [
    "if invoice_index is not None:\n",
    "    query = \"the bill belongs to whom?\"\n",
    "    query_result = query_invoice(query)\n",
    "    print(\"🔹 Query Result:\", query_result)"
   ]
  },
  {
   "cell_type": "code",
   "execution_count": 10,
   "id": "83225e24-8e4f-4e07-ab97-5390c08b9d47",
   "metadata": {},
   "outputs": [
    {
     "name": "stdout",
     "output_type": "stream",
     "text": [
      "🔹 Query Result: 11/02/2019\n"
     ]
    }
   ],
   "source": [
    "if invoice_index is not None:\n",
    "    query = \"what is the invoice date?\"\n",
    "    query_result = query_invoice(query)\n",
    "    print(\"🔹 Query Result:\", query_result)"
   ]
  }
 ],
 "metadata": {
  "kernelspec": {
   "display_name": "DiT",
   "language": "python",
   "name": "dit"
  },
  "language_info": {
   "codemirror_mode": {
    "name": "ipython",
    "version": 3
   },
   "file_extension": ".py",
   "mimetype": "text/x-python",
   "name": "python",
   "nbconvert_exporter": "python",
   "pygments_lexer": "ipython3",
   "version": "3.10.0"
  }
 },
 "nbformat": 4,
 "nbformat_minor": 5
}
